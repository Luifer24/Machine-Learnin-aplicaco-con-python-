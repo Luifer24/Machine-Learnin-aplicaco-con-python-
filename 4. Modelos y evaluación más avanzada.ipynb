{
 "cells": [
  {
   "cell_type": "code",
   "execution_count": 102,
   "metadata": {},
   "outputs": [],
   "source": [
    "import pandas as pd\n",
    "import numpy as np\n",
    "import matplotlib.pyplot as plt\n",
    "import warnings"
   ]
  },
  {
   "cell_type": "markdown",
   "metadata": {},
   "source": [
    "**Como solucionar el overfitting y el underfitting?**\n",
    "\n",
    "Viarianza Alta:\n",
    "\n",
    "- Conseguir más ejemplos\n",
    "- Reducir cantidad de features\n",
    "- Aumentar coeficiente de regularización\n",
    "\n",
    "Bias Alto:\n",
    "\n",
    "- Más features\n",
    "- Modelo más complejo\n",
    "\n",
    "Mal resultado general:\n",
    "\n",
    "- Probar otro algoritmo/familia de modelos, quizás las hipotesis del modelo no son cumplidas por tu dataset"
   ]
  },
  {
   "cell_type": "code",
   "execution_count": 103,
   "metadata": {},
   "outputs": [],
   "source": [
    "warnings.filterwarnings('ignore')"
   ]
  },
  {
   "cell_type": "code",
   "execution_count": 4,
   "metadata": {},
   "outputs": [
    {
     "data": {
      "text/html": [
       "<div>\n",
       "<style scoped>\n",
       "    .dataframe tbody tr th:only-of-type {\n",
       "        vertical-align: middle;\n",
       "    }\n",
       "\n",
       "    .dataframe tbody tr th {\n",
       "        vertical-align: top;\n",
       "    }\n",
       "\n",
       "    .dataframe thead th {\n",
       "        text-align: right;\n",
       "    }\n",
       "</style>\n",
       "<table border=\"1\" class=\"dataframe\">\n",
       "  <thead>\n",
       "    <tr style=\"text-align: right;\">\n",
       "      <th></th>\n",
       "      <th>production_budget</th>\n",
       "      <th>worldwide_gross</th>\n",
       "      <th>title_year</th>\n",
       "      <th>aspect_ratio</th>\n",
       "      <th>duration.1</th>\n",
       "      <th>cast_total_facebook_likes</th>\n",
       "      <th>budget</th>\n",
       "      <th>imdb_score</th>\n",
       "      <th>opening_gross</th>\n",
       "      <th>screens</th>\n",
       "    </tr>\n",
       "  </thead>\n",
       "  <tbody>\n",
       "    <tr>\n",
       "      <th>0</th>\n",
       "      <td>425000000.0</td>\n",
       "      <td>2.783919e+09</td>\n",
       "      <td>2009.0</td>\n",
       "      <td>1.78</td>\n",
       "      <td>178.0</td>\n",
       "      <td>4834.0</td>\n",
       "      <td>237000000.0</td>\n",
       "      <td>7.9</td>\n",
       "      <td>77025481.0</td>\n",
       "      <td>3452.0</td>\n",
       "    </tr>\n",
       "    <tr>\n",
       "      <th>1</th>\n",
       "      <td>300000000.0</td>\n",
       "      <td>9.634204e+08</td>\n",
       "      <td>2007.0</td>\n",
       "      <td>2.35</td>\n",
       "      <td>169.0</td>\n",
       "      <td>48350.0</td>\n",
       "      <td>300000000.0</td>\n",
       "      <td>7.1</td>\n",
       "      <td>139802190.0</td>\n",
       "      <td>4362.0</td>\n",
       "    </tr>\n",
       "    <tr>\n",
       "      <th>2</th>\n",
       "      <td>300000000.0</td>\n",
       "      <td>8.796209e+08</td>\n",
       "      <td>2015.0</td>\n",
       "      <td>2.35</td>\n",
       "      <td>148.0</td>\n",
       "      <td>11700.0</td>\n",
       "      <td>245000000.0</td>\n",
       "      <td>6.8</td>\n",
       "      <td>70403148.0</td>\n",
       "      <td>3929.0</td>\n",
       "    </tr>\n",
       "    <tr>\n",
       "      <th>3</th>\n",
       "      <td>275000000.0</td>\n",
       "      <td>1.084439e+09</td>\n",
       "      <td>2012.0</td>\n",
       "      <td>2.35</td>\n",
       "      <td>164.0</td>\n",
       "      <td>106759.0</td>\n",
       "      <td>250000000.0</td>\n",
       "      <td>8.5</td>\n",
       "      <td>160887295.0</td>\n",
       "      <td>4404.0</td>\n",
       "    </tr>\n",
       "    <tr>\n",
       "      <th>4</th>\n",
       "      <td>275000000.0</td>\n",
       "      <td>2.600021e+08</td>\n",
       "      <td>2013.0</td>\n",
       "      <td>2.35</td>\n",
       "      <td>150.0</td>\n",
       "      <td>45757.0</td>\n",
       "      <td>215000000.0</td>\n",
       "      <td>6.5</td>\n",
       "      <td>29210849.0</td>\n",
       "      <td>3904.0</td>\n",
       "    </tr>\n",
       "  </tbody>\n",
       "</table>\n",
       "</div>"
      ],
      "text/plain": [
       "   production_budget  worldwide_gross  title_year  aspect_ratio  duration.1  \\\n",
       "0        425000000.0     2.783919e+09      2009.0          1.78       178.0   \n",
       "1        300000000.0     9.634204e+08      2007.0          2.35       169.0   \n",
       "2        300000000.0     8.796209e+08      2015.0          2.35       148.0   \n",
       "3        275000000.0     1.084439e+09      2012.0          2.35       164.0   \n",
       "4        275000000.0     2.600021e+08      2013.0          2.35       150.0   \n",
       "\n",
       "   cast_total_facebook_likes       budget  imdb_score  opening_gross  screens  \n",
       "0                     4834.0  237000000.0         7.9     77025481.0   3452.0  \n",
       "1                    48350.0  300000000.0         7.1    139802190.0   4362.0  \n",
       "2                    11700.0  245000000.0         6.8     70403148.0   3929.0  \n",
       "3                   106759.0  250000000.0         8.5    160887295.0   4404.0  \n",
       "4                    45757.0  215000000.0         6.5     29210849.0   3904.0  "
      ]
     },
     "execution_count": 4,
     "metadata": {},
     "output_type": "execute_result"
    }
   ],
   "source": [
    "opening = pd.read_csv('/Users/luifer/teaching/machine-learning-platzi-master/datasets/X_opening.csv')\n",
    "opening.head()"
   ]
  },
  {
   "cell_type": "code",
   "execution_count": 5,
   "metadata": {},
   "outputs": [],
   "source": [
    "y = opening['worldwide_gross']\n",
    "X = opening.drop(['worldwide_gross','budget'], axis = 1)"
   ]
  },
  {
   "cell_type": "code",
   "execution_count": 6,
   "metadata": {},
   "outputs": [],
   "source": [
    "from sklearn.model_selection import train_test_split"
   ]
  },
  {
   "cell_type": "code",
   "execution_count": 7,
   "metadata": {},
   "outputs": [],
   "source": [
    "X_train, X_test, y_train, y_test = train_test_split(X, y, random_state = 1)"
   ]
  },
  {
   "cell_type": "code",
   "execution_count": 8,
   "metadata": {},
   "outputs": [],
   "source": [
    "from sklearn.model_selection import cross_val_score\n",
    "from sklearn.linear_model import Lasso"
   ]
  },
  {
   "cell_type": "code",
   "execution_count": 9,
   "metadata": {},
   "outputs": [
    {
     "data": {
      "text/plain": [
       "0.7929126071888781"
      ]
     },
     "execution_count": 9,
     "metadata": {},
     "output_type": "execute_result"
    }
   ],
   "source": [
    "lasso = Lasso()\n",
    "lasso.fit(X_train, y_train)\n",
    "lasso.score(X_test, y_test)"
   ]
  },
  {
   "cell_type": "code",
   "execution_count": 10,
   "metadata": {},
   "outputs": [
    {
     "data": {
      "text/plain": [
       "array([0.59315745, 0.69012026, 0.55551984, 0.3491635 , 0.22954419])"
      ]
     },
     "execution_count": 10,
     "metadata": {},
     "output_type": "execute_result"
    }
   ],
   "source": [
    "scores = cross_val_score(Lasso(), X, y, cv = 5, scoring = 'r2')\n",
    "scores"
   ]
  },
  {
   "cell_type": "code",
   "execution_count": 106,
   "metadata": {},
   "outputs": [
    {
     "data": {
      "text/plain": [
       "0.44964021745791805"
      ]
     },
     "execution_count": 106,
     "metadata": {},
     "output_type": "execute_result"
    }
   ],
   "source": [
    "scores.mean()"
   ]
  },
  {
   "cell_type": "markdown",
   "metadata": {},
   "source": [
    "# Selección de modelos"
   ]
  },
  {
   "cell_type": "markdown",
   "metadata": {},
   "source": [
    "**Overfiting o underfiting**\n",
    "\n",
    "Para saber si estamos en overfiting o en underfiting necesitamos los scores de entrenamiento y test."
   ]
  },
  {
   "cell_type": "code",
   "execution_count": 31,
   "metadata": {},
   "outputs": [],
   "source": [
    "from sklearn.model_selection import cross_validate"
   ]
  },
  {
   "cell_type": "markdown",
   "metadata": {},
   "source": [
    "### cross_validate(return_train_score = True)\n",
    "- train_score\n",
    "- test_score"
   ]
  },
  {
   "cell_type": "code",
   "execution_count": 108,
   "metadata": {},
   "outputs": [
    {
     "data": {
      "text/plain": [
       "{'fit_time': array([0.00732398, 0.03124833, 0.00701046, 0.04601932, 0.05390596]),\n",
       " 'score_time': array([0.       , 0.       , 0.       , 0.       , 0.0020144]),\n",
       " 'test_score': array([0.59315745, 0.69012026, 0.55551984, 0.3491635 , 0.22954419]),\n",
       " 'train_score': array([0.68987999, 0.7698129 , 0.76584093, 0.7606603 , 0.75822332])}"
      ]
     },
     "execution_count": 108,
     "metadata": {},
     "output_type": "execute_result"
    }
   ],
   "source": [
    "results = cross_validate(Lasso(), X, y, return_train_score = True, cv = 5)\n",
    "results"
   ]
  },
  {
   "cell_type": "code",
   "execution_count": 109,
   "metadata": {},
   "outputs": [
    {
     "name": "stdout",
     "output_type": "stream",
     "text": [
      "0.7491178363039035\n",
      "0.44964021745791805\n"
     ]
    }
   ],
   "source": [
    "train_score = results['train_score']\n",
    "test_score = results['test_score']\n",
    "print(np.mean(train_score))\n",
    "print(np.mean(test_score))"
   ]
  },
  {
   "cell_type": "markdown",
   "metadata": {},
   "source": [
    "**Tenemos bias elevado, varianza elevada (underfitting), por lo que tenemos que buscar modelos más complejos**"
   ]
  },
  {
   "cell_type": "markdown",
   "metadata": {},
   "source": [
    "## Curva de validación y Curva de Aprendizaje"
   ]
  },
  {
   "cell_type": "code",
   "execution_count": 110,
   "metadata": {},
   "outputs": [],
   "source": [
    "from sklearn.neighbors import KNeighborsRegressor"
   ]
  },
  {
   "cell_type": "markdown",
   "metadata": {},
   "source": [
    "### KNeighborsRegressor()"
   ]
  },
  {
   "cell_type": "code",
   "execution_count": 112,
   "metadata": {},
   "outputs": [
    {
     "data": {
      "text/plain": [
       "{'fit_time': array([0.        , 0.        , 0.        , 0.        , 0.00651002]),\n",
       " 'score_time': array([0.01562834, 0.01563334, 0.        , 0.01562428, 0.        ]),\n",
       " 'test_score': array([0.3647382 , 0.59274527, 0.21545625, 0.15143495, 0.25635077]),\n",
       " 'train_score': array([0.73553883, 0.78647652, 0.78386739, 0.77876542, 0.77477287])}"
      ]
     },
     "execution_count": 112,
     "metadata": {},
     "output_type": "execute_result"
    }
   ],
   "source": [
    "cross_validate(KNeighborsRegressor(), X, y, return_train_score = True, cv = 5)"
   ]
  },
  {
   "cell_type": "markdown",
   "metadata": {},
   "source": [
    "- KNeighborsRegressor(10)"
   ]
  },
  {
   "cell_type": "code",
   "execution_count": 113,
   "metadata": {},
   "outputs": [
    {
     "data": {
      "text/plain": [
       "{'fit_time': array([0.0059979 , 0.0079968 , 0.01598859, 0.00599599, 0.00704694]),\n",
       " 'score_time': array([0.00899267, 0.01498985, 0.01798964, 0.01199651, 0.00998068]),\n",
       " 'test_score': array([0.23553954, 0.61921355, 0.24881301, 0.1209604 , 0.2466995 ]),\n",
       " 'train_score': array([0.67830521, 0.76365722, 0.76231726, 0.75701303, 0.75061953])}"
      ]
     },
     "execution_count": 113,
     "metadata": {},
     "output_type": "execute_result"
    }
   ],
   "source": [
    "cross_validate(KNeighborsRegressor(10), X, y, return_train_score = True, cv = 5)"
   ]
  },
  {
   "cell_type": "code",
   "execution_count": 115,
   "metadata": {},
   "outputs": [],
   "source": [
    "from sklearn.model_selection import validation_curve"
   ]
  },
  {
   "cell_type": "code",
   "execution_count": 116,
   "metadata": {},
   "outputs": [
    {
     "data": {
      "text/plain": [
       "array([ 2,  4,  6,  8, 10, 12, 14, 16, 18, 20, 22, 24, 26, 28, 30, 32, 34,\n",
       "       36, 38, 40, 42, 44, 46, 48])"
      ]
     },
     "execution_count": 116,
     "metadata": {},
     "output_type": "execute_result"
    }
   ],
   "source": [
    "n = np.arange(2, 50, 2)\n",
    "n"
   ]
  },
  {
   "cell_type": "code",
   "execution_count": 117,
   "metadata": {},
   "outputs": [],
   "source": [
    "train_scores, test_scores = validation_curve(KNeighborsRegressor(),\n",
    "                                            X,\n",
    "                                            y,\n",
    "                                            param_name = 'n_neighbors',\n",
    "                                            param_range = n,\n",
    "                                            cv = 5)"
   ]
  },
  {
   "cell_type": "code",
   "execution_count": 120,
   "metadata": {},
   "outputs": [
    {
     "data": {
      "text/plain": [
       "array([[0.85254787, 0.87500249, 0.87361899, 0.87096664, 0.86944354],\n",
       "       [0.76258234, 0.80362711, 0.80107876, 0.79649437, 0.79225826],\n",
       "       [0.71882872, 0.77528919, 0.77290638, 0.76735431, 0.76232037],\n",
       "       [0.68629696, 0.77062676, 0.76985196, 0.76407441, 0.75829891],\n",
       "       [0.67830521, 0.76365722, 0.76231726, 0.75701303, 0.75061953],\n",
       "       [0.66669119, 0.75639535, 0.75224453, 0.74815962, 0.74071023],\n",
       "       [0.65480296, 0.74891959, 0.74648058, 0.74378262, 0.73531718],\n",
       "       [0.64772202, 0.74008013, 0.73888781, 0.73626996, 0.72603174],\n",
       "       [0.63936836, 0.73593265, 0.73519762, 0.73104469, 0.72255579],\n",
       "       [0.63264888, 0.73410524, 0.73254544, 0.72913498, 0.72038171],\n",
       "       [0.62426297, 0.73376047, 0.73130737, 0.72761135, 0.7192313 ],\n",
       "       [0.61965019, 0.73181725, 0.72943231, 0.72617578, 0.71804593],\n",
       "       [0.61578387, 0.72891082, 0.72651615, 0.72246403, 0.71505758],\n",
       "       [0.6119936 , 0.72401826, 0.72211091, 0.718668  , 0.71028635],\n",
       "       [0.60667711, 0.7208691 , 0.71900503, 0.71565558, 0.70675387],\n",
       "       [0.60342878, 0.71887333, 0.71734429, 0.71339879, 0.70511047],\n",
       "       [0.59932481, 0.717331  , 0.71577141, 0.71174401, 0.70358607],\n",
       "       [0.59570468, 0.71411077, 0.7128537 , 0.70825943, 0.70021393],\n",
       "       [0.59130115, 0.71181479, 0.71017606, 0.70532643, 0.69745036],\n",
       "       [0.5881312 , 0.70941877, 0.70667805, 0.70261957, 0.69405402],\n",
       "       [0.58280384, 0.70924904, 0.70625789, 0.70212585, 0.69384008],\n",
       "       [0.57890516, 0.7053406 , 0.70261159, 0.69876321, 0.69048224],\n",
       "       [0.57451506, 0.7015458 , 0.69915105, 0.69491361, 0.68663061],\n",
       "       [0.57010508, 0.70070981, 0.69803575, 0.69347522, 0.68536209]])"
      ]
     },
     "execution_count": 120,
     "metadata": {},
     "output_type": "execute_result"
    }
   ],
   "source": [
    "train_scores"
   ]
  },
  {
   "cell_type": "code",
   "execution_count": 121,
   "metadata": {},
   "outputs": [
    {
     "data": {
      "text/plain": [
       "array([0.86831591, 0.79120817, 0.7593398 , 0.7498298 , 0.74238245,\n",
       "       0.73284018, 0.72586058, 0.71779833, 0.71281982, 0.70976325,\n",
       "       0.70723469, 0.70502429, 0.70174649, 0.69741543, 0.69379214,\n",
       "       0.69163113, 0.68955146, 0.6862285 , 0.68321376, 0.68018032,\n",
       "       0.67885534, 0.67522056, 0.67135123, 0.66953759])"
      ]
     },
     "execution_count": 121,
     "metadata": {},
     "output_type": "execute_result"
    }
   ],
   "source": [
    "np.mean(train_scores, axis = 1)"
   ]
  },
  {
   "cell_type": "code",
   "execution_count": 123,
   "metadata": {},
   "outputs": [
    {
     "data": {
      "image/png": "[encoded data removed]",
      "text/plain": [
       "<Figure size 432x288 with 1 Axes>"
      ]
     },
     "metadata": {
      "needs_background": "light"
     },
     "output_type": "display_data"
    }
   ],
   "source": [
    "plt.plot(np.mean(train_scores, axis = 1))\n",
    "plt.plot(np.mean(test_scores, axis = 1))\n",
    "plt.xticks(np.arange(24), n);"
   ]
  },
  {
   "cell_type": "markdown",
   "metadata": {},
   "source": [
    "# Cuarvas de Aprendizaje"
   ]
  },
  {
   "cell_type": "code",
   "execution_count": 75,
   "metadata": {},
   "outputs": [],
   "source": [
    "from sklearn.model_selection import learning_curve"
   ]
  },
  {
   "cell_type": "code",
   "execution_count": 126,
   "metadata": {},
   "outputs": [
    {
     "data": {
      "text/plain": [
       "(array([ 177,  577,  976, 1376, 1776]),\n",
       " array([[0.73137814, 0.54347388, 0.54347388, 0.54347388, 0.54347388],\n",
       "        [0.7172216 , 0.6874683 , 0.67612525, 0.67612525, 0.67612525],\n",
       "        [0.72048185, 0.74489894, 0.7303819 , 0.7216836 , 0.7216836 ],\n",
       "        [0.71867144, 0.76263478, 0.7569267 , 0.74900356, 0.74853204],\n",
       "        [0.71882872, 0.77524359, 0.77285199, 0.76729186, 0.76245665]]),\n",
       " array([[ 3.33418389e-01, -1.59695814e+00, -8.82111210e+00,\n",
       "         -1.86782000e+01, -2.29247727e+01],\n",
       "        [ 3.54518984e-01,  5.82744244e-01,  2.74286697e-01,\n",
       "         -2.09063033e-01, -1.90604803e-01],\n",
       "        [ 3.53902555e-01,  5.94866605e-01,  1.62689828e-01,\n",
       "         -3.52114650e-01, -3.12381914e-01],\n",
       "        [ 3.53902555e-01,  5.92497990e-01,  1.60518983e-01,\n",
       "          6.23338761e-02, -2.06197589e-02],\n",
       "        [ 3.52641569e-01,  5.98627520e-01,  2.06512855e-01,\n",
       "          1.45302738e-01,  2.29903192e-01]]))"
      ]
     },
     "execution_count": 126,
     "metadata": {},
     "output_type": "execute_result"
    }
   ],
   "source": [
    "lc = learning_curve(KNeighborsRegressor(n_neighbors = 6), X, y, cv = 5)\n",
    "lc"
   ]
  },
  {
   "cell_type": "code",
   "execution_count": 127,
   "metadata": {},
   "outputs": [],
   "source": [
    "samples, train, test = lc[0], lc[1], lc[2]"
   ]
  },
  {
   "cell_type": "code",
   "execution_count": 128,
   "metadata": {},
   "outputs": [
    {
     "data": {
      "text/plain": [
       "[<matplotlib.lines.Line2D at 0x162b4a3f748>]"
      ]
     },
     "execution_count": 128,
     "metadata": {},
     "output_type": "execute_result"
    },
    {
     "data": {
      "image/png": "[encoded data removed]",
      "text/plain": [
       "<Figure size 432x288 with 1 Axes>"
      ]
     },
     "metadata": {
      "needs_background": "light"
     },
     "output_type": "display_data"
    }
   ],
   "source": [
    "plt.plot(samples, np.mean(train, axis = 1))\n",
    "plt.plot(samples, np.mean(test, axis = 1))"
   ]
  },
  {
   "cell_type": "code",
   "execution_count": 137,
   "metadata": {},
   "outputs": [
    {
     "data": {
      "text/plain": [
       "[<matplotlib.lines.Line2D at 0x162b4800b00>]"
      ]
     },
     "execution_count": 137,
     "metadata": {},
     "output_type": "execute_result"
    },
    {
     "data": {
      "image/png": "[encoded data removed]",
      "text/plain": [
       "<Figure size 432x288 with 1 Axes>"
      ]
     },
     "metadata": {
      "needs_background": "light"
     },
     "output_type": "display_data"
    }
   ],
   "source": [
    "plt.plot(samples[1:], np.mean(train, axis = 1)[1:])\n",
    "plt.plot(samples[1:], np.mean(test, axis = 1)[1:])"
   ]
  },
  {
   "cell_type": "markdown",
   "metadata": {},
   "source": [
    "**El modelo aún está aprendiendo, sin embargo no tenemos como obtener mas datos adicionales**"
   ]
  },
  {
   "cell_type": "markdown",
   "metadata": {},
   "source": [
    "# Introducción a Ensemble y Árboles de Decisión"
   ]
  },
  {
   "cell_type": "code",
   "execution_count": 2,
   "metadata": {},
   "outputs": [],
   "source": [
    "import pandas as pd\n",
    "import numpy as np\n",
    "import matplotlib.pyplot as plt\n",
    "import warnings\n",
    "warnings.simplefilter('ignore')"
   ]
  },
  {
   "cell_type": "markdown",
   "metadata": {},
   "source": [
    "## Decision Tress"
   ]
  },
  {
   "cell_type": "code",
   "execution_count": 3,
   "metadata": {},
   "outputs": [],
   "source": [
    "from sklearn.tree import DecisionTreeRegressor"
   ]
  },
  {
   "cell_type": "markdown",
   "metadata": {},
   "source": [
    "### DecisionTreeRegressor()\n",
    "- max_depth = 2"
   ]
  },
  {
   "cell_type": "code",
   "execution_count": 11,
   "metadata": {},
   "outputs": [],
   "source": [
    "tree = DecisionTreeRegressor(max_depth = 2)"
   ]
  },
  {
   "cell_type": "code",
   "execution_count": 12,
   "metadata": {},
   "outputs": [
    {
     "data": {
      "text/plain": [
       "DecisionTreeRegressor(criterion='mse', max_depth=2, max_features=None,\n",
       "                      max_leaf_nodes=None, min_impurity_decrease=0.0,\n",
       "                      min_impurity_split=None, min_samples_leaf=1,\n",
       "                      min_samples_split=2, min_weight_fraction_leaf=0.0,\n",
       "                      presort=False, random_state=None, splitter='best')"
      ]
     },
     "execution_count": 12,
     "metadata": {},
     "output_type": "execute_result"
    }
   ],
   "source": [
    "X_train, X_test, y_train, y_test = train_test_split(X, y, random_state = 1)\n",
    "tree.fit(X_train, y_train)"
   ]
  },
  {
   "cell_type": "code",
   "execution_count": 13,
   "metadata": {},
   "outputs": [],
   "source": [
    "import graphviz\n",
    "from sklearn.tree import export_graphviz"
   ]
  },
  {
   "cell_type": "code",
   "execution_count": 17,
   "metadata": {},
   "outputs": [
    {
     "data": {
      "text/plain": [
       "'digraph Tree {\\nnode [shape=box] ;\\n0 [label=\"opening_gross <= 41613376.0\\\\nmse = 4.491994363696598e+16\\\\nsamples = 1665\\\\nvalue = 141540319.054\"] ;\\n1 [label=\"opening_gross <= 22074047.0\\\\nmse = 1.3333822193127824e+16\\\\nsamples = 1506\\\\nvalue = 92999937.199\"] ;\\n0 -> 1 [labeldistance=2.5, labelangle=45, headlabel=\"True\"] ;\\n2 [label=\"mse = 4923666241203538.0\\\\nsamples = 1257\\\\nvalue = 64781848.271\"] ;\\n1 -> 2 ;\\n3 [label=\"mse = 3.147813101998767e+16\\\\nsamples = 249\\\\nvalue = 235450289.735\"] ;\\n1 -> 3 ;\\n4 [label=\"opening_gross <= 70351576.0\\\\nmse = 1.10398118715936e+17\\\\nsamples = 159\\\\nvalue = 601300162.289\"] ;\\n0 -> 4 [labeldistance=2.5, labelangle=-45, headlabel=\"False\"] ;\\n5 [label=\"mse = 4.067538845924502e+16\\\\nsamples = 92\\\\nvalue = 440868287.554\"] ;\\n4 -> 5 ;\\n6 [label=\"mse = 1.2226485798747546e+17\\\\nsamples = 67\\\\nvalue = 821594676.851\"] ;\\n4 -> 6 ;\\n}'"
      ]
     },
     "execution_count": 17,
     "metadata": {},
     "output_type": "execute_result"
    }
   ],
   "source": [
    "treedot = export_graphviz(tree, out_file = None, feature_names = X.columns)\n",
    "treedot"
   ]
  },
  {
   "cell_type": "code",
   "execution_count": null,
   "metadata": {},
   "outputs": [],
   "source": [
    "graphviz.Source(treedot)"
   ]
  },
  {
   "cell_type": "markdown",
   "metadata": {},
   "source": [
    "**Virtudes de los arboles de decision:**\n",
    "\n",
    "- Metodo poderoso y probado\n",
    "- Interpretable\n",
    "- No necesita escalar los datos (clasificación), y menos preprocesamiento de variables\n",
    "\n",
    "Sin embargo en la practica existen modelos que obtienen mejor rendimiento. Como mejorar el modelo de arboles de decisión?"
   ]
  },
  {
   "cell_type": "markdown",
   "metadata": {},
   "source": [
    "# Random Forest  y Gradient Boosting Trees"
   ]
  },
  {
   "cell_type": "code",
   "execution_count": 20,
   "metadata": {},
   "outputs": [],
   "source": [
    "from sklearn.ensemble import RandomForestRegressor, GradientBoostingRegressor\n",
    "from sklearn.model_selection import cross_validate"
   ]
  },
  {
   "cell_type": "markdown",
   "metadata": {},
   "source": [
    "**Concepto General**\n",
    "\n",
    "Random Forest y Gradient Boosted Trees, forman parte de una familia de algoritmos que se denominan ensembles.\n",
    "\n",
    "$$ Ensemble = Submodelos \\rightarrow Entrenamiento \\rightarrow Predicciones_{Intermedias} \\rightarrow Voto \\rightarrow Prediccion_{final}$$ \n",
    "\n",
    "**Cómo funciona el algoritmo Random Forest?**\n",
    "\n",
    "Vamos a generar cientos de modelos de arboles de decisión que serán entrenados sobre **conjuntos de datos bootstrapeados** del conjunto de datos original y donde para cada etapa de separación el **conjunto de features elegibles** sera un subconjunto aleatorio del conjunto original de features."
   ]
  },
  {
   "cell_type": "code",
   "execution_count": 25,
   "metadata": {},
   "outputs": [],
   "source": [
    "forest = RandomForestRegressor(200)\n",
    "results = cross_validate(forest, X, y, cv = 5,return_train_score = True, scoring = 'r2')"
   ]
  },
  {
   "cell_type": "code",
   "execution_count": 26,
   "metadata": {},
   "outputs": [
    {
     "data": {
      "text/plain": [
       "{'fit_time': array([2.28669333, 2.0756979 , 2.28913283, 2.33252525, 2.04758692]),\n",
       " 'score_time': array([0.03005767, 0.04042768, 0.04597688, 0.03525567, 0.03897548]),\n",
       " 'test_score': array([0.44690044, 0.68691831, 0.58376994, 0.42789758, 0.46875347]),\n",
       " 'train_score': array([0.961488  , 0.96908272, 0.96620745, 0.96601973, 0.96340388])}"
      ]
     },
     "execution_count": 26,
     "metadata": {},
     "output_type": "execute_result"
    }
   ],
   "source": [
    "results"
   ]
  },
  {
   "cell_type": "code",
   "execution_count": 28,
   "metadata": {},
   "outputs": [
    {
     "name": "stdout",
     "output_type": "stream",
     "text": [
      "0.9652403554537046\n",
      "0.5228479478527135\n"
     ]
    }
   ],
   "source": [
    "train_score = results['train_score']\n",
    "test_score = results['test_score']\n",
    "print(np.mean(train_score))\n",
    "print(np.mean(test_score))"
   ]
  },
  {
   "cell_type": "markdown",
   "metadata": {},
   "source": [
    "Mejor resultado que Lasso! Ya no tenemos Bias y tenemos un mejor score r2. Sin embargo tenemos una diferencia importante entre score de entrenamiento y de test (overfit)."
   ]
  },
  {
   "cell_type": "code",
   "execution_count": 31,
   "metadata": {},
   "outputs": [],
   "source": [
    "ensemble = GradientBoostingRegressor()\n",
    "results = cross_validate(ensemble, X, y, cv = 5, return_train_score = True, scoring = 'r2')"
   ]
  },
  {
   "cell_type": "code",
   "execution_count": 32,
   "metadata": {},
   "outputs": [
    {
     "name": "stdout",
     "output_type": "stream",
     "text": [
      "0.9152752861037458\n",
      "0.5302980881158683\n"
     ]
    }
   ],
   "source": [
    "train_score = results['train_score']\n",
    "test_score = results['test_score']\n",
    "print(np.mean(train_score))\n",
    "print(np.mean(test_score))"
   ]
  },
  {
   "cell_type": "markdown",
   "metadata": {},
   "source": [
    "# Opctimización de hiperparámetros"
   ]
  },
  {
   "cell_type": "markdown",
   "metadata": {},
   "source": [
    "- Fijar un learning rate alto\n",
    "- Fijar parametros de los arboles\n",
    "- Fijados estos parametros, elegir el mejor numero de estimadores que conforman el ensemble\n",
    "- (Tarea) Con el learning rate dado y el numero de estimadores óptimo, optimizar los parametros de los arboles\n",
    "\n",
    "**Grid Search**\n",
    "\n",
    "Por ahora dijimos que:\n",
    "    \n",
    "- train_test_split servia para evaluaciones rapidas, testeos y prototipaje\n",
    "- cross_validate es un método más robusto para poder estimar el rendimiento de tu algoritmo\n",
    "\n",
    "Sin embargo una vez que hemos finalizado nuestra etapa de prototipaje y ya queremos establecer un modelo definitivo deberiamos seguir el flujo siguiente."
   ]
  },
  {
   "cell_type": "code",
   "execution_count": 33,
   "metadata": {},
   "outputs": [],
   "source": [
    "X_train, X_test, y_train, y_test = train_test_split(X, y, random_state = 1) "
   ]
  },
  {
   "cell_type": "code",
   "execution_count": 34,
   "metadata": {},
   "outputs": [],
   "source": [
    "from sklearn.model_selection import GridSearchCV"
   ]
  },
  {
   "cell_type": "code",
   "execution_count": 73,
   "metadata": {},
   "outputs": [],
   "source": [
    "param_test1 = {'n_estimators': range(20,501,20)}"
   ]
  },
  {
   "cell_type": "code",
   "execution_count": 39,
   "metadata": {},
   "outputs": [],
   "source": [
    "estimator = GradientBoostingRegressor(learning_rate = 0.1,\n",
    "                                     min_samples_split=500,\n",
    "                                     min_samples_leaf=50,\n",
    "                                     max_depth=8,\n",
    "                                     max_features='sqrt',\n",
    "                                     subsample=0.8,\n",
    "                                     random_state=10)"
   ]
  },
  {
   "cell_type": "markdown",
   "metadata": {},
   "source": [
    "### - GridSearchCV()\n",
    "- model = \n",
    "- param_grid = \n",
    "- scoring = \n",
    "- cv = "
   ]
  },
  {
   "cell_type": "code",
   "execution_count": 40,
   "metadata": {},
   "outputs": [],
   "source": [
    "gsearch1 = GridSearchCV(estimator,\n",
    "                       param_grid = param_test1,\n",
    "                       scoring = 'r2',\n",
    "                       cv = 5)"
   ]
  },
  {
   "cell_type": "code",
   "execution_count": null,
   "metadata": {},
   "outputs": [],
   "source": []
  },
  {
   "cell_type": "code",
   "execution_count": 41,
   "metadata": {},
   "outputs": [
    {
     "data": {
      "text/plain": [
       "GridSearchCV(cv=5, error_score='raise-deprecating',\n",
       "             estimator=GradientBoostingRegressor(alpha=0.9,\n",
       "                                                 criterion='friedman_mse',\n",
       "                                                 init=None, learning_rate=0.1,\n",
       "                                                 loss='ls', max_depth=8,\n",
       "                                                 max_features='sqrt',\n",
       "                                                 max_leaf_nodes=None,\n",
       "                                                 min_impurity_decrease=0.0,\n",
       "                                                 min_impurity_split=None,\n",
       "                                                 min_samples_leaf=50,\n",
       "                                                 min_samples_split=500,\n",
       "                                                 min_weight_fraction_leaf=0.0,\n",
       "                                                 n_estimators=100,\n",
       "                                                 n_iter_no_change=None,\n",
       "                                                 presort='auto',\n",
       "                                                 random_state=10, subsample=0.8,\n",
       "                                                 tol=0.0001,\n",
       "                                                 validation_fraction=0.1,\n",
       "                                                 verbose=0, warm_start=False),\n",
       "             iid='warn', n_jobs=None,\n",
       "             param_grid={'n_estimators': range(20, 501, 20)},\n",
       "             pre_dispatch='2*n_jobs', refit=True, return_train_score=False,\n",
       "             scoring='r2', verbose=0)"
      ]
     },
     "execution_count": 41,
     "metadata": {},
     "output_type": "execute_result"
    }
   ],
   "source": [
    "gsearch1.fit(X_train, y_train)"
   ]
  },
  {
   "cell_type": "code",
   "execution_count": 55,
   "metadata": {},
   "outputs": [
    {
     "data": {
      "text/plain": [
       "{'mean_fit_time': array([0.08678598, 0.07007279, 0.0658896 , 0.1047832 , 0.1262228 ,\n",
       "        0.12172027, 0.14361501, 0.16660218, 0.18792515, 0.22006955,\n",
       "        0.22286725, 0.24725294, 0.27300644, 0.28483982, 0.30703068,\n",
       "        0.35891333, 0.46673651, 0.41446385, 0.41077275, 0.4112411 ,\n",
       "        0.49921579, 0.45223794, 0.49818993, 0.66901207, 0.5974432 ]),\n",
       " 'std_fit_time': array([0.09568633, 0.00417605, 0.00277662, 0.01321256, 0.02055282,\n",
       "        0.00292451, 0.00689219, 0.00547462, 0.00796282, 0.02174536,\n",
       "        0.00346222, 0.0041845 , 0.01292182, 0.00469001, 0.00636492,\n",
       "        0.03796579, 0.04219057, 0.06532408, 0.03387635, 0.01051763,\n",
       "        0.04283744, 0.00615329, 0.0434785 , 0.06963711, 0.29722137]),\n",
       " 'mean_score_time': array([0.00339746, 0.00439663, 0.00230107, 0.00519395, 0.00339971,\n",
       "        0.00299711, 0.003198  , 0.00339599, 0.00319757, 0.00479388,\n",
       "        0.00419579, 0.00499692, 0.00459752, 0.00539269, 0.00499606,\n",
       "        0.00519581, 0.00779777, 0.00579386, 0.00659399, 0.00599351,\n",
       "        0.0067946 , 0.00639267, 0.00739803, 0.0059979 , 0.00615106]),\n",
       " 'std_score_time': array([1.49522327e-03, 3.00462718e-03, 6.03509145e-04, 1.72416617e-03,\n",
       "        1.49841623e-03, 1.76751642e-06, 4.00497303e-04, 4.87697950e-04,\n",
       "        3.99756613e-04, 7.47250155e-04, 9.79749624e-04, 6.33467237e-04,\n",
       "        8.01375436e-04, 8.00309650e-04, 1.09501797e-03, 7.49552194e-04,\n",
       "        2.03740681e-03, 9.81196574e-04, 1.35632527e-03, 1.09693774e-03,\n",
       "        1.59822736e-03, 4.86151593e-04, 8.02628894e-04, 3.16135694e-03,\n",
       "        3.89377718e-03]),\n",
       " 'param_n_estimators': masked_array(data=[20, 40, 60, 80, 100, 120, 140, 160, 180, 200, 220, 240,\n",
       "                    260, 280, 300, 320, 340, 360, 380, 400, 420, 440, 460,\n",
       "                    480, 500],\n",
       "              mask=[False, False, False, False, False, False, False, False,\n",
       "                    False, False, False, False, False, False, False, False,\n",
       "                    False, False, False, False, False, False, False, False,\n",
       "                    False],\n",
       "        fill_value='?',\n",
       "             dtype=object),\n",
       " 'params': [{'n_estimators': 20},\n",
       "  {'n_estimators': 40},\n",
       "  {'n_estimators': 60},\n",
       "  {'n_estimators': 80},\n",
       "  {'n_estimators': 100},\n",
       "  {'n_estimators': 120},\n",
       "  {'n_estimators': 140},\n",
       "  {'n_estimators': 160},\n",
       "  {'n_estimators': 180},\n",
       "  {'n_estimators': 200},\n",
       "  {'n_estimators': 220},\n",
       "  {'n_estimators': 240},\n",
       "  {'n_estimators': 260},\n",
       "  {'n_estimators': 280},\n",
       "  {'n_estimators': 300},\n",
       "  {'n_estimators': 320},\n",
       "  {'n_estimators': 340},\n",
       "  {'n_estimators': 360},\n",
       "  {'n_estimators': 380},\n",
       "  {'n_estimators': 400},\n",
       "  {'n_estimators': 420},\n",
       "  {'n_estimators': 440},\n",
       "  {'n_estimators': 460},\n",
       "  {'n_estimators': 480},\n",
       "  {'n_estimators': 500}],\n",
       " 'split0_test_score': array([0.5787232 , 0.65880125, 0.67652614, 0.68414795, 0.69177635,\n",
       "        0.69466749, 0.69616223, 0.69903581, 0.7020998 , 0.70446306,\n",
       "        0.70605993, 0.70847648, 0.70829154, 0.70898703, 0.71025243,\n",
       "        0.70934579, 0.71024556, 0.71008834, 0.71112835, 0.71066461,\n",
       "        0.71120336, 0.71152145, 0.71156164, 0.71198893, 0.71220568]),\n",
       " 'split1_test_score': array([0.56642302, 0.63450943, 0.64791185, 0.65089934, 0.6538397 ,\n",
       "        0.65871206, 0.66316394, 0.66257482, 0.6622121 , 0.6630732 ,\n",
       "        0.66538152, 0.6664166 , 0.67054441, 0.67091319, 0.67163039,\n",
       "        0.67360964, 0.67388978, 0.67141346, 0.67378453, 0.67295706,\n",
       "        0.67183913, 0.67097776, 0.67295525, 0.67754968, 0.67810309]),\n",
       " 'split2_test_score': array([0.70450073, 0.77380332, 0.78921795, 0.80151454, 0.80704517,\n",
       "        0.81270561, 0.81936874, 0.82552537, 0.8270894 , 0.82863702,\n",
       "        0.82855846, 0.82708249, 0.82842462, 0.83049283, 0.83180567,\n",
       "        0.83131857, 0.83037161, 0.83122727, 0.83416553, 0.83399564,\n",
       "        0.8359376 , 0.83555924, 0.83416457, 0.83386432, 0.83469859]),\n",
       " 'split3_test_score': array([0.74162375, 0.80395514, 0.81055234, 0.81140018, 0.80738932,\n",
       "        0.80450633, 0.80798596, 0.80538809, 0.80650717, 0.80394151,\n",
       "        0.80298706, 0.80312378, 0.79844841, 0.79675491, 0.80045268,\n",
       "        0.79697551, 0.79922349, 0.79848491, 0.79709152, 0.79379136,\n",
       "        0.79431038, 0.79349331, 0.79108381, 0.78494495, 0.78663298]),\n",
       " 'split4_test_score': array([0.69897204, 0.75992598, 0.76521867, 0.76781125, 0.77061352,\n",
       "        0.76812831, 0.77173022, 0.77248275, 0.76871837, 0.76861816,\n",
       "        0.76708299, 0.76796543, 0.76443502, 0.76534249, 0.76694467,\n",
       "        0.76588918, 0.76704169, 0.76657267, 0.76353692, 0.76675866,\n",
       "        0.76841216, 0.76774171, 0.76665618, 0.76439468, 0.76506098]),\n",
       " 'mean_test_score': array([0.65804855, 0.72619903, 0.73788539, 0.74315465, 0.74613281,\n",
       "        0.74774396, 0.75168222, 0.75300137, 0.75332537, 0.75374659,\n",
       "        0.75401399, 0.75461296, 0.7540288 , 0.75449809, 0.75621717,\n",
       "        0.75542774, 0.75615443, 0.75555733, 0.75594137, 0.75563347,\n",
       "        0.75634052, 0.7558587 , 0.75528429, 0.75454851, 0.75534027]),\n",
       " 'std_test_score': array([0.07142142, 0.06693151, 0.06406688, 0.06428703, 0.0625054 ,\n",
       "        0.06099393, 0.06175994, 0.06240652, 0.06234111, 0.06164381,\n",
       "        0.06046709, 0.05948209, 0.05775408, 0.05785522, 0.05840062,\n",
       "        0.05729367, 0.05719574, 0.05803047, 0.05766801, 0.05758127,\n",
       "        0.05848244, 0.05844709, 0.05713627, 0.05486716, 0.05513192]),\n",
       " 'rank_test_score': array([25, 24, 23, 22, 21, 20, 19, 18, 17, 16, 15, 11, 14, 13,  2,  8,  3,\n",
       "         7,  4,  6,  1,  5, 10, 12,  9])}"
      ]
     },
     "execution_count": 55,
     "metadata": {},
     "output_type": "execute_result"
    }
   ],
   "source": [
    "gsearch1.cv_results_"
   ]
  },
  {
   "cell_type": "markdown",
   "metadata": {},
   "source": [
    "**.best_parms_**"
   ]
  },
  {
   "cell_type": "code",
   "execution_count": 60,
   "metadata": {},
   "outputs": [
    {
     "name": "stdout",
     "output_type": "stream",
     "text": [
      "{'n_estimators': 420}\n"
     ]
    }
   ],
   "source": [
    "print(gsearch1.best_params_)"
   ]
  },
  {
   "cell_type": "markdown",
   "metadata": {},
   "source": [
    "**.best_estimator**"
   ]
  },
  {
   "cell_type": "code",
   "execution_count": 106,
   "metadata": {},
   "outputs": [
    {
     "data": {
      "text/plain": [
       "GradientBoostingRegressor(alpha=0.9, criterion='friedman_mse', init=None,\n",
       "                          learning_rate=0.1, loss='ls', max_depth=8,\n",
       "                          max_features='sqrt', max_leaf_nodes=None,\n",
       "                          min_impurity_decrease=0.0, min_impurity_split=None,\n",
       "                          min_samples_leaf=50, min_samples_split=500,\n",
       "                          min_weight_fraction_leaf=0.0, n_estimators=420,\n",
       "                          n_iter_no_change=None, presort='auto',\n",
       "                          random_state=10, subsample=0.8, tol=0.0001,\n",
       "                          validation_fraction=0.1, verbose=0, warm_start=False)"
      ]
     },
     "execution_count": 106,
     "metadata": {},
     "output_type": "execute_result"
    }
   ],
   "source": [
    "gsearch1.best_estimator_"
   ]
  },
  {
   "cell_type": "markdown",
   "metadata": {},
   "source": [
    "**cross_validate()**"
   ]
  },
  {
   "cell_type": "code",
   "execution_count": 68,
   "metadata": {},
   "outputs": [],
   "source": [
    "final_results = cross_validate(gsearch1.best_estimator_,X_train, y_train,return_train_score=True)"
   ]
  },
  {
   "cell_type": "code",
   "execution_count": 69,
   "metadata": {},
   "outputs": [
    {
     "name": "stdout",
     "output_type": "stream",
     "text": [
      "0.8391178312450979\n",
      "0.738898751310067\n"
     ]
    }
   ],
   "source": [
    "train_score = final_results['train_score']\n",
    "test_score = final_results['test_score']\n",
    "print(np.mean(train_score))\n",
    "print(np.mean(test_score))"
   ]
  },
  {
   "cell_type": "code",
   "execution_count": 65,
   "metadata": {},
   "outputs": [
    {
     "data": {
      "text/plain": [
       "{'fit_time': array([0.3646965 , 0.33150125, 0.28278446]),\n",
       " 'score_time': array([0.01060104, 0.01008034, 0.01010203]),\n",
       " 'test_score': array([0.63840944, 0.81134462, 0.76694219])}"
      ]
     },
     "execution_count": 65,
     "metadata": {},
     "output_type": "execute_result"
    }
   ],
   "source": [
    "final_results"
   ]
  },
  {
   "cell_type": "code",
   "execution_count": 84,
   "metadata": {},
   "outputs": [],
   "source": [
    "estimator = GradientBoostingRegressor(n_estimators=420,\n",
    "                                     learning_rate = 0.1,\n",
    "                                     min_samples_split=500,\n",
    "                                     min_samples_leaf=50,\n",
    "                                     max_depth=8,\n",
    "                                     max_features='sqrt',\n",
    "                                     subsample=0.8,\n",
    "                                     random_state=10)"
   ]
  },
  {
   "cell_type": "code",
   "execution_count": 95,
   "metadata": {},
   "outputs": [
    {
     "data": {
      "text/plain": [
       "GradientBoostingRegressor(alpha=0.9, criterion='friedman_mse', init=None,\n",
       "                          learning_rate=0.1, loss='ls', max_depth=8,\n",
       "                          max_features='sqrt', max_leaf_nodes=None,\n",
       "                          min_impurity_decrease=0.0, min_impurity_split=None,\n",
       "                          min_samples_leaf=50, min_samples_split=500,\n",
       "                          min_weight_fraction_leaf=0.0, n_estimators=420,\n",
       "                          n_iter_no_change=None, presort='auto',\n",
       "                          random_state=10, subsample=0.8, tol=0.0001,\n",
       "                          validation_fraction=0.1, verbose=0, warm_start=False)"
      ]
     },
     "execution_count": 95,
     "metadata": {},
     "output_type": "execute_result"
    }
   ],
   "source": [
    "estimator.fit(X_train, y_train)"
   ]
  },
  {
   "cell_type": "code",
   "execution_count": 96,
   "metadata": {},
   "outputs": [
    {
     "data": {
      "text/plain": [
       "0.817860680423855"
      ]
     },
     "execution_count": 96,
     "metadata": {},
     "output_type": "execute_result"
    }
   ],
   "source": [
    "estimator.score(X_test, y_test)"
   ]
  },
  {
   "cell_type": "code",
   "execution_count": 92,
   "metadata": {},
   "outputs": [],
   "source": [
    "from sklearn.metrics import mean_squared_error"
   ]
  },
  {
   "cell_type": "code",
   "execution_count": 97,
   "metadata": {},
   "outputs": [],
   "source": [
    "pred_y = estimator.predict(X_test) "
   ]
  },
  {
   "cell_type": "code",
   "execution_count": 100,
   "metadata": {},
   "outputs": [
    {
     "data": {
      "text/plain": [
       "72344096.1943045"
      ]
     },
     "execution_count": 100,
     "metadata": {},
     "output_type": "execute_result"
    }
   ],
   "source": [
    "error = np.sqrt(mean_squared_error(y_test, pred_y))\n",
    "error"
   ]
  },
  {
   "cell_type": "code",
   "execution_count": 101,
   "metadata": {},
   "outputs": [
    {
     "data": {
      "text/plain": [
       "0.5245276726398023"
      ]
     },
     "execution_count": 101,
     "metadata": {},
     "output_type": "execute_result"
    }
   ],
   "source": [
    "error / y.mean()"
   ]
  }
 ],
 "metadata": {
  "kernelspec": {
   "display_name": "Python 3",
   "language": "python",
   "name": "python3"
  },
  "language_info": {
   "codemirror_mode": {
    "name": "ipython",
    "version": 3
   },
   "file_extension": ".py",
   "mimetype": "text/x-python",
   "name": "python",
   "nbconvert_exporter": "python",
   "pygments_lexer": "ipython3",
   "version": "3.7.4"
  }
 },
 "nbformat": 4,
 "nbformat_minor": 2
}
