{
 "cells": [
  {
   "cell_type": "markdown",
   "metadata": {},
   "source": [
    "# Preprocesado de los datos"
   ]
  },
  {
   "cell_type": "markdown",
   "metadata": {},
   "source": [
    "- pd.read_csv()\n",
    "- pd.DataFrame()\n",
    "- .to_csv()\n",
    "- .head()\n",
    "- .shape\n",
    "- .columns\n",
    "- .index\n",
    "- .iloc[ ]"
   ]
  },
  {
   "cell_type": "markdown",
   "metadata": {},
   "source": [
    "- .inf()\n",
    "- .dtype"
   ]
  },
  {
   "cell_type": "markdown",
   "metadata": {},
   "source": [
    "- .describe()\n",
    "- .hist()\n",
    "- .value.counts()"
   ]
  },
  {
   "cell_type": "markdown",
   "metadata": {},
   "source": [
    "- pd.concat()\n",
    "- pd.merge()\n",
    "- pd.Series.value_counts\n",
    "- .value_counts()\n",
    "- .all(axis = 1).value_counts()\n",
    "- .apply()\n",
    "- .drop(axis = 1)"
   ]
  },
  {
   "cell_type": "markdown",
   "metadata": {},
   "source": [
    "# Modelización y evaluación"
   ]
  },
  {
   "cell_type": "markdown",
   "metadata": {},
   "source": [
    "# Feature Engineering"
   ]
  },
  {
   "cell_type": "markdown",
   "metadata": {},
   "source": [
    "- corr()\n",
    "- sns.heatmap()\n",
    "- .coef_\n",
    "- sns.paiplot()\n",
    "- pd.cut()"
   ]
  },
  {
   "cell_type": "markdown",
   "metadata": {},
   "source": [
    "## sklearn.feature_selection\n",
    "- SelectKBest()\n",
    "- mutual_info_resgression\n",
    "- scores_"
   ]
  },
  {
   "cell_type": "markdown",
   "metadata": {},
   "source": [
    "## sklearn.preprocessing \n",
    "- StandardSacle()\n",
    "- PolynomialFeatures()"
   ]
  },
  {
   "cell_type": "markdown",
   "metadata": {},
   "source": [
    "# Modelos y evaluación mas avanzadas\n",
    "## sklearn.model_selection\n",
    "\n",
    "- **train_test_split**\n",
    "- **cross_val_score**\n",
    "- **cross_validate**\n",
    "    - model=\n",
    "    - X,y\n",
    "    - return_train_score = True\n",
    "    - CV=\n",
    "- **validation_curve**\n",
    "    - model=\n",
    "    - X,y\n",
    "    - param_name=\n",
    "    - param_range=\n",
    "    - CV=\n",
    "- **learning_curve**\n",
    "    - model=\n",
    "    - X,y\n",
    "    - CV=\n",
    "- **GridSearchCV**\n",
    "    - model=\n",
    "    - param_grid=\n",
    "    - scoring=\n",
    "    - CV="
   ]
  },
  {
   "cell_type": "code",
   "execution_count": null,
   "metadata": {},
   "outputs": [],
   "source": []
  }
 ],
 "metadata": {
  "kernelspec": {
   "display_name": "Python 3",
   "language": "python",
   "name": "python3"
  },
  "language_info": {
   "codemirror_mode": {
    "name": "ipython",
    "version": 3
   },
   "file_extension": ".py",
   "mimetype": "text/x-python",
   "name": "python",
   "nbconvert_exporter": "python",
   "pygments_lexer": "ipython3",
   "version": "3.7.4"
  }
 },
 "nbformat": 4,
 "nbformat_minor": 2
}
